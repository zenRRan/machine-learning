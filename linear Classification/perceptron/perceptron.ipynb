{
 "cells": [
  {
   "cell_type": "code",
   "execution_count": null,
   "metadata": {
    "collapsed": false
   },
   "outputs": [
    {
     "data": {
      "image/png": "[encoded data removed]",
      "text/plain": [
       "<matplotlib.figure.Figure at 0x6343d30>"
      ]
     },
     "metadata": {},
     "output_type": "display_data"
    }
   ],
   "source": [
    "from random import *\n",
    "import numpy as np\n",
    "from matplotlib import pyplot\n",
    "\n",
    "fontpo1 = {'family': 'serif',\n",
    "        'color':  'red',\n",
    "        'weight': 'normal',\n",
    "        'size': 16,\n",
    "        }\n",
    "\n",
    "fontpl1 = {'family': 'serif',\n",
    "        'color':  'blue',\n",
    "        'weight': 'normal',\n",
    "        'size': 16,\n",
    "        }\n",
    "\n",
    "x = [(1,1), (0.9, 1.8), (2.3, 1), (2.8,2.5), (1.3, 4), (6, 4.6), (4.2, 5.1), (5.1, 6.6), (6.2, 5,6), (4.6, 5.2)]\n",
    "y = [-1, -1, -1, -1, 1, 1, 1, 1, 1, 1]\n",
    "mk = []\n",
    "cs = []\n",
    "for l in y:\n",
    "    if l > 0:\n",
    "        mk.append('o')\n",
    "        cs.append('red')\n",
    "    else:\n",
    "        mk.append('x')\n",
    "        cs.append('blue')\n",
    "#cs\n",
    "x1, x2 = zip(*x)\n",
    "for _s, _c, _x1, _x2 in zip(mk, cs, x1, x2):\n",
    "    pyplot.scatter(_x1, _x2, marker=_s, c=_c, s=100)\n",
    "#pyplot.scatter(x1, x2, color=cs, marker=mk)\n",
    "pyplot.text(6.8, 6.8, r'+1', fontdict=fontpo1)\n",
    "pyplot.text(0.2, 0.2, r'-1', fontdict=fontpl1)\n",
    "pyplot.axis([0, 8, 0, 8])\n",
    "pyplot.plot([0, 8], [3, 4], 'k-', linewidth=2.0, color='green')\n",
    "#pyplot.plot([0, 8], [3.5, 4.5], 'k-', linewidth=2.0, color='red')\n",
    "#pyplot.plot([0, 8], [2.5, 3.5], 'k-', linewidth=2.0, color='blue')\n",
    "pyplot.show()"
   ]
  },
  {
   "cell_type": "code",
   "execution_count": 2,
   "metadata": {
    "collapsed": false
   },
   "outputs": [
    {
     "data": {
      "image/png": "[encoded data removed]",
      "text/plain": [
       "<matplotlib.figure.Figure at 0x4cd2780>"
      ]
     },
     "metadata": {},
     "output_type": "display_data"
    }
   ],
   "source": [
    "w1, w2, b = 0, 0, 0\n",
    "\n",
    "for i in range(10):\n",
    "    s = w1 * x1[i] + w2 * x2[i] + b\n",
    "    if s > 0:\n",
    "        cs[i] = 'red'\n",
    "        mk[i] = 'x'\n",
    "    else:\n",
    "        cs[i] = 'blue'\n",
    "        mk[i] = 'o'\n",
    "\n",
    "for _s, _c, _x1, _x2 in zip(mk, cs, x1, x2):\n",
    "   pyplot.scatter(_x1, _x2, marker=_s, c=_c, s=100)      \n",
    "    \n",
    "pyplot.axis([0, 8, 0, 8])\n",
    "#pyplot.plot([0, 8], [b, b], 'k-', linewidth=5.0, color='green') \n",
    "pyplot.show()"
   ]
  },
  {
   "cell_type": "code",
   "execution_count": 7,
   "metadata": {
    "collapsed": false
   },
   "outputs": [
    {
     "data": {
      "image/png": "[encoded data removed]",
      "text/plain": [
       "<matplotlib.figure.Figure at 0x877a3c8>"
      ]
     },
     "metadata": {},
     "output_type": "display_data"
    },
    {
     "data": {
      "text/plain": [
       "[-1.0, 3.4000000000000004, -6, (0, 1.764705882352941), (8, 4.117647058823529)]"
      ]
     },
     "execution_count": 7,
     "metadata": {},
     "output_type": "execute_result"
    }
   ],
   "source": [
    "for i in range(10):\n",
    "    s = w1 * x1[i] + w2 * x2[i] + b\n",
    "    if (s>=0 and y[i] < 0) or (s <= 0 and y[i] > 0):\n",
    "        w1 += y[i]*x1[i]\n",
    "        w2 += y[i]*x2[i]\n",
    "        b += y[i]\n",
    "        \n",
    "for i in range(10):\n",
    "    s = w1 * x1[i] + w2 * x2[i] + b\n",
    "    if s > 0:\n",
    "        cs[i] = 'red'\n",
    "        mk[i] = 'x'\n",
    "    else:\n",
    "        cs[i] = 'blue'\n",
    "        mk[i] = 'o'\n",
    "\n",
    "for _s, _c, _x1, _x2 in zip(mk, cs, x1, x2):\n",
    "   pyplot.scatter(_x1, _x2, marker=_s, c=_c, s=10) \n",
    "   \n",
    "pyplot.axis([0, 8, 0, 8])\n",
    "s1 = (0, -b/w2)\n",
    "if s1[1] > 8 or s1[1] < 0: \n",
    "     s1 = (-8*w2/w1-b/w1, 8)\n",
    "s2 = (-b/w1, 0)\n",
    "if s2[0] > 8 or s2[0] < 0:\n",
    "    s2 = (8, -8*w1/w2-b/w2)\n",
    "pyplot.plot([s1[0], s2[0]], [s1[1], s2[1]], 'k-', linewidth=1.0, color='green') \n",
    "pyplot.show()\n",
    "[w1, w2, b, s1, s2]"
   ]
  },
  {
   "cell_type": "code",
   "execution_count": null,
   "metadata": {
    "collapsed": true
   },
   "outputs": [],
   "source": []
  },
  {
   "cell_type": "code",
   "execution_count": null,
   "metadata": {
    "collapsed": true
   },
   "outputs": [],
   "source": []
  }
 ],
 "metadata": {
  "kernelspec": {
   "display_name": "Python 3",
   "language": "python",
   "name": "python3"
  },
  "language_info": {
   "codemirror_mode": {
    "name": "ipython",
    "version": 3
   },
   "file_extension": ".py",
   "mimetype": "text/x-python",
   "name": "python",
   "nbconvert_exporter": "python",
   "pygments_lexer": "ipython3",
   "version": "3.6.0"
  }
 },
 "nbformat": 4,
 "nbformat_minor": 0
}
